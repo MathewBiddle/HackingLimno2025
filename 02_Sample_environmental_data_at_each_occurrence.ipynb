{
  "nbformat": 4,
  "nbformat_minor": 0,
  "metadata": {
    "colab": {
      "provenance": [],
      "include_colab_link": true
    },
    "kernelspec": {
      "name": "python3",
      "display_name": "Python 3"
    },
    "language_info": {
      "name": "python"
    }
  },
  "cells": [
    {
      "cell_type": "markdown",
      "metadata": {
        "id": "view-in-github",
        "colab_type": "text"
      },
      "source": [
        "<a href=\"https://colab.research.google.com/github/marinebon/HackingLimno2025/blob/main/03_Sample_environmental_data_at_each_occurrence.ipynb\" target=\"_parent\"><img src=\"https://colab.research.google.com/assets/colab-badge.svg\" alt=\"Open In Colab\"/></a>"
      ]
    },
    {
      "cell_type": "markdown",
      "source": [
        "Fetching Occurrence Data from pyobis\n",
        "\n"
      ],
      "metadata": {
        "id": "RlxwTxhoDvbb"
      }
    },
    {
      "cell_type": "code",
      "execution_count": 1,
      "metadata": {
        "colab": {
          "base_uri": "https://localhost:8080/"
        },
        "id": "duORdW0vAiYc",
        "outputId": "e2978fec-94c6-4dce-885c-61d264ed9c82"
      },
      "outputs": [
        {
          "output_type": "stream",
          "name": "stdout",
          "text": [
            "Collecting rasterio\n",
            "  Downloading rasterio-1.4.3-cp311-cp311-manylinux_2_17_x86_64.manylinux2014_x86_64.whl.metadata (9.1 kB)\n",
            "Requirement already satisfied: pandas in /usr/local/lib/python3.11/dist-packages (2.2.2)\n",
            "Requirement already satisfied: geopandas in /usr/local/lib/python3.11/dist-packages (1.0.1)\n",
            "Requirement already satisfied: matplotlib in /usr/local/lib/python3.11/dist-packages (3.10.0)\n",
            "Requirement already satisfied: requests in /usr/local/lib/python3.11/dist-packages (2.32.3)\n",
            "Collecting affine (from rasterio)\n",
            "  Downloading affine-2.4.0-py3-none-any.whl.metadata (4.0 kB)\n",
            "Requirement already satisfied: attrs in /usr/local/lib/python3.11/dist-packages (from rasterio) (25.3.0)\n",
            "Requirement already satisfied: certifi in /usr/local/lib/python3.11/dist-packages (from rasterio) (2025.6.15)\n",
            "Requirement already satisfied: click>=4.0 in /usr/local/lib/python3.11/dist-packages (from rasterio) (8.2.1)\n",
            "Collecting cligj>=0.5 (from rasterio)\n",
            "  Downloading cligj-0.7.2-py3-none-any.whl.metadata (5.0 kB)\n",
            "Requirement already satisfied: numpy>=1.24 in /usr/local/lib/python3.11/dist-packages (from rasterio) (2.0.2)\n",
            "Collecting click-plugins (from rasterio)\n",
            "  Downloading click_plugins-1.1.1.2-py2.py3-none-any.whl.metadata (6.5 kB)\n",
            "Requirement already satisfied: pyparsing in /usr/local/lib/python3.11/dist-packages (from rasterio) (3.2.3)\n",
            "Requirement already satisfied: python-dateutil>=2.8.2 in /usr/local/lib/python3.11/dist-packages (from pandas) (2.9.0.post0)\n",
            "Requirement already satisfied: pytz>=2020.1 in /usr/local/lib/python3.11/dist-packages (from pandas) (2025.2)\n",
            "Requirement already satisfied: tzdata>=2022.7 in /usr/local/lib/python3.11/dist-packages (from pandas) (2025.2)\n",
            "Requirement already satisfied: pyogrio>=0.7.2 in /usr/local/lib/python3.11/dist-packages (from geopandas) (0.11.0)\n",
            "Requirement already satisfied: packaging in /usr/local/lib/python3.11/dist-packages (from geopandas) (24.2)\n",
            "Requirement already satisfied: pyproj>=3.3.0 in /usr/local/lib/python3.11/dist-packages (from geopandas) (3.7.1)\n",
            "Requirement already satisfied: shapely>=2.0.0 in /usr/local/lib/python3.11/dist-packages (from geopandas) (2.1.1)\n",
            "Requirement already satisfied: contourpy>=1.0.1 in /usr/local/lib/python3.11/dist-packages (from matplotlib) (1.3.2)\n",
            "Requirement already satisfied: cycler>=0.10 in /usr/local/lib/python3.11/dist-packages (from matplotlib) (0.12.1)\n",
            "Requirement already satisfied: fonttools>=4.22.0 in /usr/local/lib/python3.11/dist-packages (from matplotlib) (4.58.4)\n",
            "Requirement already satisfied: kiwisolver>=1.3.1 in /usr/local/lib/python3.11/dist-packages (from matplotlib) (1.4.8)\n",
            "Requirement already satisfied: pillow>=8 in /usr/local/lib/python3.11/dist-packages (from matplotlib) (11.2.1)\n",
            "Requirement already satisfied: charset-normalizer<4,>=2 in /usr/local/lib/python3.11/dist-packages (from requests) (3.4.2)\n",
            "Requirement already satisfied: idna<4,>=2.5 in /usr/local/lib/python3.11/dist-packages (from requests) (3.10)\n",
            "Requirement already satisfied: urllib3<3,>=1.21.1 in /usr/local/lib/python3.11/dist-packages (from requests) (2.4.0)\n",
            "Requirement already satisfied: six>=1.5 in /usr/local/lib/python3.11/dist-packages (from python-dateutil>=2.8.2->pandas) (1.17.0)\n",
            "Downloading rasterio-1.4.3-cp311-cp311-manylinux_2_17_x86_64.manylinux2014_x86_64.whl (22.2 MB)\n",
            "\u001b[2K   \u001b[90m━━━━━━━━━━━━━━━━━━━━━━━━━━━━━━━━━━━━━━━━\u001b[0m \u001b[32m22.2/22.2 MB\u001b[0m \u001b[31m43.5 MB/s\u001b[0m eta \u001b[36m0:00:00\u001b[0m\n",
            "\u001b[?25hDownloading cligj-0.7.2-py3-none-any.whl (7.1 kB)\n",
            "Downloading affine-2.4.0-py3-none-any.whl (15 kB)\n",
            "Downloading click_plugins-1.1.1.2-py2.py3-none-any.whl (11 kB)\n",
            "Installing collected packages: cligj, click-plugins, affine, rasterio\n",
            "Successfully installed affine-2.4.0 click-plugins-1.1.1.2 cligj-0.7.2 rasterio-1.4.3\n"
          ]
        }
      ],
      "source": [
        "!pip install rasterio pandas geopandas matplotlib  requests"
      ]
    },
    {
      "cell_type": "markdown",
      "source": [
        "Importing libraries"
      ],
      "metadata": {
        "id": "PA9meCsJEJJD"
      }
    },
    {
      "cell_type": "code",
      "source": [
        "%matplotlib inline"
      ],
      "metadata": {
        "id": "Si3SNmisES6t"
      },
      "execution_count": 2,
      "outputs": []
    },
    {
      "cell_type": "markdown",
      "source": [
        "mount google drive for saving result"
      ],
      "metadata": {
        "id": "ineRPtWcEddq"
      }
    },
    {
      "cell_type": "code",
      "source": [
        "from google.colab import drive\n",
        "drive.mount('/content/drive')\n",
        "\n",
        "\n",
        "import os\n",
        "project_dir = '/content/drive/MyDrive/GSoC_SDM_Project'\n",
        "if not os.path.exists(project_dir):\n",
        "    os.makedirs(project_dir)"
      ],
      "metadata": {
        "colab": {
          "base_uri": "https://localhost:8080/"
        },
        "id": "yic17REhEZJ9",
        "outputId": "0adc4523-1544-434f-a94e-377c1884ab0c"
      },
      "execution_count": 3,
      "outputs": [
        {
          "output_type": "stream",
          "name": "stdout",
          "text": [
            "Mounted at /content/drive\n"
          ]
        }
      ]
    },
    {
      "cell_type": "markdown",
      "source": [
        "fetching occurrence data"
      ],
      "metadata": {
        "id": "ZjzU920aFUDu"
      }
    },
    {
      "cell_type": "markdown",
      "source": [
        "Clean Occurrence Data Function"
      ],
      "metadata": {
        "id": "KvO4p_LpIJ-j"
      }
    },
    {
      "cell_type": "markdown",
      "source": [
        "Data exploration\n"
      ],
      "metadata": {
        "id": "uuW2kOuCDQ8c"
      }
    },
    {
      "cell_type": "markdown",
      "source": [
        "Function to prepare data for environmental sampling"
      ],
      "metadata": {
        "id": "4s5BdSZCDn6v"
      }
    },
    {
      "cell_type": "code",
      "source": [
        "def prepare_for_environmental_sampling(\n",
        "    df: pd.DataFrame,\n",
        "    species_column: str = 'scientificName',\n",
        "    lat_column: str = 'decimalLatitude',\n",
        "    lon_column: str = 'decimalLongitude',\n",
        "    additional_columns: Optional[List[str]] = None\n",
        ") -> pd.DataFrame:\n",
        "\n",
        "    columns = [species_column, lat_column, lon_column]\n",
        "\n",
        "    if additional_columns:\n",
        "        columns.extend([col for col in additional_columns if col in df.columns])\n",
        "\n",
        "    prepared_df = df[columns].copy()\n",
        "\n",
        "    prepared_df['occurrence_id'] = range(len(prepared_df))\n",
        "\n",
        "    cols = ['occurrence_id'] + [col for col in prepared_df.columns if col != 'occurrence_id']\n",
        "    prepared_df = prepared_df[cols]\n",
        "\n",
        "    return prepared_df"
      ],
      "metadata": {
        "id": "UGkVzyEBI6hM"
      },
      "execution_count": null,
      "outputs": []
    },
    {
      "cell_type": "markdown",
      "source": [
        "This is just and example for testing the general functions\n"
      ],
      "metadata": {
        "id": "6HQBP1PrD4yU"
      }
    },
    {
      "cell_type": "code",
      "source": [
        "# TODO: move this to pyOBIS notebok\n",
        "\n",
        "def save_occurrence_data(\n",
        "    df: pd.DataFrame,\n",
        "    filename: str,\n",
        "    format: str = 'csv'\n",
        ") -> None:\n",
        "\n",
        "    if format == 'csv':\n",
        "        df.to_csv(f\"{filename}.csv\", index=False)\n",
        "        print(f\"Data saved to {filename}.csv\")\n",
        "    elif format == 'parquet':\n",
        "        df.to_parquet(f\"{filename}.parquet\", index=False)\n",
        "        print(f\"Data saved to {filename}.parquet\")\n",
        "    else:\n",
        "        raise ValueError(f\"Unsupported format: {format}\")\n"
      ],
      "metadata": {
        "id": "iyaa5b9YOSi1"
      },
      "execution_count": null,
      "outputs": []
    },
    {
      "cell_type": "markdown",
      "source": [
        "bringing in environmental data. Functions for Environmental Data Sampling"
      ],
      "metadata": {
        "id": "hbt7MRx-Ng_Q"
      }
    },
    {
      "cell_type": "code",
      "source": [
        "!pip install rasterio\n",
        "!pip install xarray\n",
        "!pip install netCDF4"
      ],
      "metadata": {
        "colab": {
          "base_uri": "https://localhost:8080/"
        },
        "id": "8H8aqsjfNfsp",
        "outputId": "513090d3-e762-46d0-b124-f9159ed58e9f"
      },
      "execution_count": null,
      "outputs": [
        {
          "output_type": "stream",
          "name": "stdout",
          "text": [
            "Collecting rasterio\n",
            "  Downloading rasterio-1.4.3-cp311-cp311-manylinux_2_17_x86_64.manylinux2014_x86_64.whl.metadata (9.1 kB)\n",
            "Collecting affine (from rasterio)\n",
            "  Downloading affine-2.4.0-py3-none-any.whl.metadata (4.0 kB)\n",
            "Requirement already satisfied: attrs in /usr/local/lib/python3.11/dist-packages (from rasterio) (25.3.0)\n",
            "Requirement already satisfied: certifi in /usr/local/lib/python3.11/dist-packages (from rasterio) (2025.6.15)\n",
            "Requirement already satisfied: click>=4.0 in /usr/local/lib/python3.11/dist-packages (from rasterio) (8.2.1)\n",
            "Collecting cligj>=0.5 (from rasterio)\n",
            "  Downloading cligj-0.7.2-py3-none-any.whl.metadata (5.0 kB)\n",
            "Requirement already satisfied: numpy>=1.24 in /usr/local/lib/python3.11/dist-packages (from rasterio) (2.0.2)\n",
            "Collecting click-plugins (from rasterio)\n",
            "  Downloading click_plugins-1.1.1-py2.py3-none-any.whl.metadata (6.4 kB)\n",
            "Requirement already satisfied: pyparsing in /usr/local/lib/python3.11/dist-packages (from rasterio) (3.2.3)\n",
            "Downloading rasterio-1.4.3-cp311-cp311-manylinux_2_17_x86_64.manylinux2014_x86_64.whl (22.2 MB)\n",
            "\u001b[2K   \u001b[90m━━━━━━━━━━━━━━━━━━━━━━━━━━━━━━━━━━━━━━━━\u001b[0m \u001b[32m22.2/22.2 MB\u001b[0m \u001b[31m38.5 MB/s\u001b[0m eta \u001b[36m0:00:00\u001b[0m\n",
            "\u001b[?25hDownloading cligj-0.7.2-py3-none-any.whl (7.1 kB)\n",
            "Downloading affine-2.4.0-py3-none-any.whl (15 kB)\n",
            "Downloading click_plugins-1.1.1-py2.py3-none-any.whl (7.5 kB)\n",
            "Installing collected packages: cligj, click-plugins, affine, rasterio\n",
            "Successfully installed affine-2.4.0 click-plugins-1.1.1 cligj-0.7.2 rasterio-1.4.3\n",
            "Requirement already satisfied: xarray in /usr/local/lib/python3.11/dist-packages (2025.3.1)\n",
            "Requirement already satisfied: numpy>=1.24 in /usr/local/lib/python3.11/dist-packages (from xarray) (2.0.2)\n",
            "Requirement already satisfied: packaging>=23.2 in /usr/local/lib/python3.11/dist-packages (from xarray) (24.2)\n",
            "Requirement already satisfied: pandas>=2.1 in /usr/local/lib/python3.11/dist-packages (from xarray) (2.2.2)\n",
            "Requirement already satisfied: python-dateutil>=2.8.2 in /usr/local/lib/python3.11/dist-packages (from pandas>=2.1->xarray) (2.9.0.post0)\n",
            "Requirement already satisfied: pytz>=2020.1 in /usr/local/lib/python3.11/dist-packages (from pandas>=2.1->xarray) (2025.2)\n",
            "Requirement already satisfied: tzdata>=2022.7 in /usr/local/lib/python3.11/dist-packages (from pandas>=2.1->xarray) (2025.2)\n",
            "Requirement already satisfied: six>=1.5 in /usr/local/lib/python3.11/dist-packages (from python-dateutil>=2.8.2->pandas>=2.1->xarray) (1.17.0)\n",
            "Collecting netCDF4\n",
            "  Downloading netCDF4-1.7.2-cp311-cp311-manylinux_2_17_x86_64.manylinux2014_x86_64.whl.metadata (1.8 kB)\n",
            "Collecting cftime (from netCDF4)\n",
            "  Downloading cftime-1.6.4.post1-cp311-cp311-manylinux_2_17_x86_64.manylinux2014_x86_64.whl.metadata (8.7 kB)\n",
            "Requirement already satisfied: certifi in /usr/local/lib/python3.11/dist-packages (from netCDF4) (2025.6.15)\n",
            "Requirement already satisfied: numpy in /usr/local/lib/python3.11/dist-packages (from netCDF4) (2.0.2)\n",
            "Downloading netCDF4-1.7.2-cp311-cp311-manylinux_2_17_x86_64.manylinux2014_x86_64.whl (9.3 MB)\n",
            "\u001b[2K   \u001b[90m━━━━━━━━━━━━━━━━━━━━━━━━━━━━━━━━━━━━━━━━\u001b[0m \u001b[32m9.3/9.3 MB\u001b[0m \u001b[31m61.3 MB/s\u001b[0m eta \u001b[36m0:00:00\u001b[0m\n",
            "\u001b[?25hDownloading cftime-1.6.4.post1-cp311-cp311-manylinux_2_17_x86_64.manylinux2014_x86_64.whl (1.4 MB)\n",
            "\u001b[2K   \u001b[90m━━━━━━━━━━━━━━━━━━━━━━━━━━━━━━━━━━━━━━━━\u001b[0m \u001b[32m1.4/1.4 MB\u001b[0m \u001b[31m52.7 MB/s\u001b[0m eta \u001b[36m0:00:00\u001b[0m\n",
            "\u001b[?25hInstalling collected packages: cftime, netCDF4\n",
            "Successfully installed cftime-1.6.4.post1 netCDF4-1.7.2\n"
          ]
        }
      ]
    },
    {
      "cell_type": "code",
      "source": [
        "import rasterio\n",
        "import xarray as xr\n",
        "import numpy as np\n",
        "from typing import Union, List, Tuple, Optional, Dict"
      ],
      "metadata": {
        "id": "VlNQY5BUNeRH"
      },
      "execution_count": null,
      "outputs": []
    },
    {
      "cell_type": "code",
      "source": [
        "def add_environmental_data(\n",
        "    df: pd.DataFrame,\n",
        "    raster_path: str,\n",
        "    column_name: str = 'temperature',\n",
        "    lat_col: str = 'decimalLatitude',\n",
        "    lon_col: str = 'decimalLongitude'\n",
        ") -> pd.DataFrame:\n",
        "\n",
        "    df_result = df.copy()\n",
        "\n",
        "    with rasterio.open(raster_path) as src:\n",
        "        coords = [(row[lon_col], row[lat_col]) for _, row in df.iterrows()]\n",
        "        sampled_values = list(src.sample(coords))\n",
        "        values = [val[0] if val[0] != src.nodata else np.nan for val in sampled_values]\n",
        "        df_result[column_name] = values\n",
        "\n",
        "    print(f\"Added {column_name}: {df_result[column_name].notna().sum()}/{len(df_result)} valid values\")\n",
        "    return df_result\n",
        "\n",
        "RASTER_PATH = f'{project_dir}/cmems_salinity_44d2_bc4b_70b2_U1749495233099.nc'\n",
        "\n",
        "df_with_temp = add_environmental_data(df_clean, RASTER_PATH, 'temperature')\n",
        "\n",
        "print(df_with_temp[['scientificName', 'decimalLatitude', 'decimalLongitude', 'eventDate', 'temperature']].head())"
      ],
      "metadata": {
        "id": "_6BQ0scdR4O3",
        "colab": {
          "base_uri": "https://localhost:8080/"
        },
        "outputId": "f40662cb-b0df-4a09-9938-167e78772044"
      },
      "execution_count": null,
      "outputs": [
        {
          "output_type": "stream",
          "name": "stdout",
          "text": [
            "Added temperature: 12306/12374 valid values\n",
            "  scientificName  decimalLatitude  decimalLongitude           eventDate  \\\n",
            "0      Mola mola         39.33100         -72.41040 2016-11-17 14:20:44   \n",
            "3      Mola mola         40.16700         -70.03300 1981-08-02 11:14:00   \n",
            "4      Mola mola         42.38549         -67.09194 2016-06-16 11:09:56   \n",
            "6      Mola mola         39.73300         -71.53300 1979-07-18 11:44:00   \n",
            "8      Mola mola         40.96870         -70.43540 2020-07-21 14:22:45   \n",
            "\n",
            "   temperature  \n",
            "0    34.304287  \n",
            "3    33.463039  \n",
            "4    32.325291  \n",
            "6    34.602718  \n",
            "8    32.050797  \n"
          ]
        }
      ]
    }
  ]
}
