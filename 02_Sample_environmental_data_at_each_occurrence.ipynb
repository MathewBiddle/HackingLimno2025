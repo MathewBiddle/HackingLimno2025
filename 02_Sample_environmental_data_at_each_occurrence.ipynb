{
  "nbformat": 4,
  "nbformat_minor": 0,
  "metadata": {
    "colab": {
      "provenance": [],
      "include_colab_link": true
    },
    "kernelspec": {
      "name": "python3",
      "display_name": "Python 3"
    },
    "language_info": {
      "name": "python"
    }
  },
  "cells": [
    {
      "cell_type": "markdown",
      "metadata": {
        "id": "view-in-github",
        "colab_type": "text"
      },
      "source": [
        "<a href=\"https://colab.research.google.com/github/marinebon/HackingLimno2025/blob/main/02_Sample_environmental_data_at_each_occurrence.ipynb\" target=\"_parent\"><img src=\"https://colab.research.google.com/assets/colab-badge.svg\" alt=\"Open In Colab\"/></a>"
      ]
    },
    {
      "cell_type": "markdown",
      "source": [
        "## Setup"
      ],
      "metadata": {
        "id": "KdZ9Qbn6D20P"
      }
    },
    {
      "cell_type": "code",
      "source": [
        "# Modify this section as needed.\n",
        "\n",
        "# ==============================================================================\n",
        "# === directory setup\n",
        "# ==============================================================================\n",
        "# If using google colab and google drive:\n",
        "from google.colab import drive\n",
        "drive.mount('/content/drive')\n",
        "\n",
        "PROJECT_DIR = '/content/drive/MyDrive/GSoC_SDM_Project'\n",
        "\n",
        "# === if using local machine\n",
        "# PROJECT_DIR = './'\n",
        "#import os\n",
        "#if not os.path.exists(PROJECT_DIR):\n",
        "#    os.makedirs(PROJECT_DIR)\n",
        "\n",
        "# ==============================================================================\n",
        "# ==============================================================================\n",
        "# === spatial coverage\n",
        "# ==============================================================================\n",
        "LATMIN = 24.11637699635014\n",
        "LATMAX = 26.11949526731449\n",
        "LONMIN = -82.51572158798965\n",
        "LONMAX = -79.61106009492724\n",
        "# =============================================================================="
      ],
      "metadata": {
        "id": "Sl8z16frD0mz",
        "outputId": "e339c37d-d8cb-4d7f-9a44-d5103f2f9e45",
        "colab": {
          "base_uri": "https://localhost:8080/"
        }
      },
      "execution_count": null,
      "outputs": [
        {
          "output_type": "stream",
          "name": "stdout",
          "text": [
            "Drive already mounted at /content/drive; to attempt to forcibly remount, call drive.mount(\"/content/drive\", force_remount=True).\n"
          ]
        }
      ]
    },
    {
      "cell_type": "code",
      "execution_count": null,
      "metadata": {
        "colab": {
          "base_uri": "https://localhost:8080/"
        },
        "id": "duORdW0vAiYc",
        "outputId": "2cd6120c-3ee2-43db-c00f-59cad84a587f"
      },
      "outputs": [
        {
          "output_type": "stream",
          "name": "stdout",
          "text": [
            "Requirement already satisfied: rasterio in /usr/local/lib/python3.11/dist-packages (1.4.3)\n",
            "Requirement already satisfied: pandas in /usr/local/lib/python3.11/dist-packages (2.2.2)\n",
            "Requirement already satisfied: geopandas in /usr/local/lib/python3.11/dist-packages (1.0.1)\n",
            "Requirement already satisfied: matplotlib in /usr/local/lib/python3.11/dist-packages (3.10.0)\n",
            "Requirement already satisfied: requests in /usr/local/lib/python3.11/dist-packages (2.32.3)\n",
            "Requirement already satisfied: xarray in /usr/local/lib/python3.11/dist-packages (2025.3.1)\n",
            "Requirement already satisfied: netCDF4 in /usr/local/lib/python3.11/dist-packages (1.7.2)\n",
            "Requirement already satisfied: affine in /usr/local/lib/python3.11/dist-packages (from rasterio) (2.4.0)\n",
            "Requirement already satisfied: attrs in /usr/local/lib/python3.11/dist-packages (from rasterio) (25.3.0)\n",
            "Requirement already satisfied: certifi in /usr/local/lib/python3.11/dist-packages (from rasterio) (2025.6.15)\n",
            "Requirement already satisfied: click>=4.0 in /usr/local/lib/python3.11/dist-packages (from rasterio) (8.2.1)\n",
            "Requirement already satisfied: cligj>=0.5 in /usr/local/lib/python3.11/dist-packages (from rasterio) (0.7.2)\n",
            "Requirement already satisfied: numpy>=1.24 in /usr/local/lib/python3.11/dist-packages (from rasterio) (2.0.2)\n",
            "Requirement already satisfied: click-plugins in /usr/local/lib/python3.11/dist-packages (from rasterio) (1.1.1.2)\n",
            "Requirement already satisfied: pyparsing in /usr/local/lib/python3.11/dist-packages (from rasterio) (3.2.3)\n",
            "Requirement already satisfied: python-dateutil>=2.8.2 in /usr/local/lib/python3.11/dist-packages (from pandas) (2.9.0.post0)\n",
            "Requirement already satisfied: pytz>=2020.1 in /usr/local/lib/python3.11/dist-packages (from pandas) (2025.2)\n",
            "Requirement already satisfied: tzdata>=2022.7 in /usr/local/lib/python3.11/dist-packages (from pandas) (2025.2)\n",
            "Requirement already satisfied: pyogrio>=0.7.2 in /usr/local/lib/python3.11/dist-packages (from geopandas) (0.11.0)\n",
            "Requirement already satisfied: packaging in /usr/local/lib/python3.11/dist-packages (from geopandas) (24.2)\n",
            "Requirement already satisfied: pyproj>=3.3.0 in /usr/local/lib/python3.11/dist-packages (from geopandas) (3.7.1)\n",
            "Requirement already satisfied: shapely>=2.0.0 in /usr/local/lib/python3.11/dist-packages (from geopandas) (2.1.1)\n",
            "Requirement already satisfied: contourpy>=1.0.1 in /usr/local/lib/python3.11/dist-packages (from matplotlib) (1.3.2)\n",
            "Requirement already satisfied: cycler>=0.10 in /usr/local/lib/python3.11/dist-packages (from matplotlib) (0.12.1)\n",
            "Requirement already satisfied: fonttools>=4.22.0 in /usr/local/lib/python3.11/dist-packages (from matplotlib) (4.58.4)\n",
            "Requirement already satisfied: kiwisolver>=1.3.1 in /usr/local/lib/python3.11/dist-packages (from matplotlib) (1.4.8)\n",
            "Requirement already satisfied: pillow>=8 in /usr/local/lib/python3.11/dist-packages (from matplotlib) (11.2.1)\n",
            "Requirement already satisfied: charset-normalizer<4,>=2 in /usr/local/lib/python3.11/dist-packages (from requests) (3.4.2)\n",
            "Requirement already satisfied: idna<4,>=2.5 in /usr/local/lib/python3.11/dist-packages (from requests) (3.10)\n",
            "Requirement already satisfied: urllib3<3,>=1.21.1 in /usr/local/lib/python3.11/dist-packages (from requests) (2.4.0)\n",
            "Requirement already satisfied: cftime in /usr/local/lib/python3.11/dist-packages (from netCDF4) (1.6.4.post1)\n",
            "Requirement already satisfied: six>=1.5 in /usr/local/lib/python3.11/dist-packages (from python-dateutil>=2.8.2->pandas) (1.17.0)\n"
          ]
        }
      ],
      "source": [
        "!pip install rasterio pandas geopandas matplotlib  requests xarray netCDF4"
      ]
    },
    {
      "cell_type": "markdown",
      "source": [
        "mount google drive for saving result"
      ],
      "metadata": {
        "id": "ineRPtWcEddq"
      }
    },
    {
      "cell_type": "code",
      "source": [
        "# read parquet file of occurrences\n",
        "# see step 01 https://github.com/marinebon/HackingLimno2025\n",
        "\n",
        "import pandas as pd\n",
        "%matplotlib inline\n",
        "df_clean = pd.read_parquet(f'{PROJECT_DIR}/occurrences.parquet')"
      ],
      "metadata": {
        "id": "eMF52MoBC-QI"
      },
      "execution_count": null,
      "outputs": []
    },
    {
      "cell_type": "markdown",
      "source": [
        "Function to prepare data for environmental sampling"
      ],
      "metadata": {
        "id": "4s5BdSZCDn6v"
      }
    },
    {
      "cell_type": "code",
      "source": [
        "from typing import Optional, List\n",
        "import pandas as pd\n",
        "\n",
        "# TODO: descriptions here\n",
        "def prepare_for_environmental_sampling(\n",
        "    df: pd.DataFrame,\n",
        "    species_column: str = 'scientificName',\n",
        "    lat_column: str = 'decimalLatitude',\n",
        "    lon_column: str = 'decimalLongitude',\n",
        "    additional_columns: Optional[List[str]] = None\n",
        ") -> pd.DataFrame:\n",
        "\n",
        "    columns = [species_column, lat_column, lon_column]\n",
        "\n",
        "    if additional_columns:\n",
        "        columns.extend([col for col in additional_columns if col in df.columns])\n",
        "\n",
        "    prepared_df = df[columns].copy()\n",
        "\n",
        "    prepared_df['occurrence_id'] = range(len(prepared_df))\n",
        "\n",
        "    cols = ['occurrence_id'] + [col for col in prepared_df.columns if col != 'occurrence_id']\n",
        "    prepared_df = prepared_df[cols]\n",
        "\n",
        "    return prepared_df"
      ],
      "metadata": {
        "id": "UGkVzyEBI6hM"
      },
      "execution_count": null,
      "outputs": []
    },
    {
      "cell_type": "markdown",
      "source": [
        "bringing in environmental data. Functions for Environmental Data Sampling"
      ],
      "metadata": {
        "id": "hbt7MRx-Ng_Q"
      }
    },
    {
      "cell_type": "code",
      "source": [
        "import rasterio\n",
        "import xarray as xr\n",
        "import numpy as np\n",
        "from typing import Union, List, Tuple, Optional, Dict"
      ],
      "metadata": {
        "id": "VlNQY5BUNeRH"
      },
      "execution_count": null,
      "outputs": []
    },
    {
      "cell_type": "code",
      "source": [
        "def add_environmental_data(\n",
        "    df: pd.DataFrame,\n",
        "    raster_path: str,\n",
        "    column_name: str = 'temperature',\n",
        "    lat_col: str = 'decimalLatitude',\n",
        "    lon_col: str = 'decimalLongitude'\n",
        ") -> pd.DataFrame:\n",
        "\n",
        "    df_result = df.copy()\n",
        "\n",
        "    # TODO: change to use xarray\n",
        "    with rasterio.open(raster_path) as src:\n",
        "        coords = [(row[lon_col], row[lat_col]) for _, row in df.iterrows()]\n",
        "        sampled_values = list(src.sample(coords))\n",
        "        band_index = 0  # 0 is surface\n",
        "        values = [val[band_index] if val[band_index] != src.nodata else np.nan for val in sampled_values]\n",
        "        df_result[column_name] = values\n",
        "\n",
        "    print(f\"Added {column_name}: {df_result[column_name].notna().sum()}/{len(df_result)} valid values\")\n",
        "    return df_result\n",
        "\n",
        "# multidecadal environmental data from NOAA World Ocean Atlas\n",
        "# https://www.ncei.noaa.gov/access/world-ocean-atlas-2023/\n",
        "\n",
        "# TODO: what about depth?\n",
        "df_with_env = add_environmental_data(df_clean, f'{PROJECT_DIR}/woa23_decav_t00_04_t_mn.tif', 'temperature')\n",
        "df_with_env = add_environmental_data(df_with_env, f'{PROJECT_DIR}/woa23_decav_t00_04_t_sd.tif', 'temperature_sd')\n",
        "# TODO: add more files here\n",
        "\n",
        "print(df_with_env.head())\n",
        "\n",
        "df_with_env.to_parquet(f'{PROJECT_DIR}/occurrences_and_environment.parquet', engine='pyarrow', index=False)"
      ],
      "metadata": {
        "id": "_6BQ0scdR4O3",
        "colab": {
          "base_uri": "https://localhost:8080/"
        },
        "outputId": "43aee17e-e948-426d-a0c2-c4e31527e427"
      },
      "execution_count": null,
      "outputs": [
        {
          "output_type": "stream",
          "name": "stdout",
          "text": [
            "Added temperature: 570/3013 valid values\n",
            "Added temperature_sd: 570/3013 valid values\n",
            "   decimalLatitude  decimalLongitude occurrenceStatus  date_year  \\\n",
            "0        25.138383        -80.624983                Q     2006.0   \n",
            "1        24.996280        -80.649250                Q     2006.0   \n",
            "2        25.248783        -80.403150                Q     2005.0   \n",
            "3        25.252020        -80.397290                Q     2007.0   \n",
            "4        25.472200        -80.325950                Q     2005.0   \n",
            "\n",
            "       date_mid  temperature  temperature_sd  \n",
            "0  1.147133e+12          NaN             NaN  \n",
            "1  1.160006e+12    26.382675        2.261415  \n",
            "2  1.115683e+12    27.391775        1.604826  \n",
            "3  1.189469e+12          NaN             NaN  \n",
            "4  1.129680e+12          NaN             NaN  \n"
          ]
        }
      ]
    },
    {
      "cell_type": "code",
      "source": [
        "# sample data using xarray and thredds\n",
        "import xarray as xr\n",
        "\n",
        "# url = 'https://www.ncei.noaa.gov/thredds-ocean/fileServer/woa23/DATA/temperature/netcdf/decav/0.25/woa23_decav_t00_04.nc'\n",
        "url = 'https://www.ncei.noaa.gov/thredds-ocean/dodsC/woa23/DATA/temperature/netcdf/decav/0.25/woa23_decav_t00_04.nc'\n",
        "ds = xr.open_dataset(url, decode_times=False)  # lazy load\n",
        "\n",
        "# TODO: for [ x for x in ]\n",
        "ds['t_an'].sel(lat=24.5, lon=-81, depth=0, method='nearest').to_dataframe()"
      ],
      "metadata": {
        "id": "erFCmFUQfr8g",
        "outputId": "3fa8a247-599c-4908-9810-f1c8257556c4",
        "colab": {
          "base_uri": "https://localhost:8080/",
          "height": 112
        }
      },
      "execution_count": 21,
      "outputs": [
        {
          "output_type": "execute_result",
          "data": {
            "text/plain": [
              "           lat     lon  depth      t_an\n",
              "time                                   \n",
              "4614.0  24.625 -80.875    0.0  26.93989"
            ],
            "text/html": [
              "\n",
              "  <div id=\"df-ed25066b-1e83-4da0-9a51-48336e48b70e\" class=\"colab-df-container\">\n",
              "    <div>\n",
              "<style scoped>\n",
              "    .dataframe tbody tr th:only-of-type {\n",
              "        vertical-align: middle;\n",
              "    }\n",
              "\n",
              "    .dataframe tbody tr th {\n",
              "        vertical-align: top;\n",
              "    }\n",
              "\n",
              "    .dataframe thead th {\n",
              "        text-align: right;\n",
              "    }\n",
              "</style>\n",
              "<table border=\"1\" class=\"dataframe\">\n",
              "  <thead>\n",
              "    <tr style=\"text-align: right;\">\n",
              "      <th></th>\n",
              "      <th>lat</th>\n",
              "      <th>lon</th>\n",
              "      <th>depth</th>\n",
              "      <th>t_an</th>\n",
              "    </tr>\n",
              "    <tr>\n",
              "      <th>time</th>\n",
              "      <th></th>\n",
              "      <th></th>\n",
              "      <th></th>\n",
              "      <th></th>\n",
              "    </tr>\n",
              "  </thead>\n",
              "  <tbody>\n",
              "    <tr>\n",
              "      <th>4614.0</th>\n",
              "      <td>24.625</td>\n",
              "      <td>-80.875</td>\n",
              "      <td>0.0</td>\n",
              "      <td>26.93989</td>\n",
              "    </tr>\n",
              "  </tbody>\n",
              "</table>\n",
              "</div>\n",
              "    <div class=\"colab-df-buttons\">\n",
              "\n",
              "  <div class=\"colab-df-container\">\n",
              "    <button class=\"colab-df-convert\" onclick=\"convertToInteractive('df-ed25066b-1e83-4da0-9a51-48336e48b70e')\"\n",
              "            title=\"Convert this dataframe to an interactive table.\"\n",
              "            style=\"display:none;\">\n",
              "\n",
              "  <svg xmlns=\"http://www.w3.org/2000/svg\" height=\"24px\" viewBox=\"0 -960 960 960\">\n",
              "    <path d=\"M120-120v-720h720v720H120Zm60-500h600v-160H180v160Zm220 220h160v-160H400v160Zm0 220h160v-160H400v160ZM180-400h160v-160H180v160Zm440 0h160v-160H620v160ZM180-180h160v-160H180v160Zm440 0h160v-160H620v160Z\"/>\n",
              "  </svg>\n",
              "    </button>\n",
              "\n",
              "  <style>\n",
              "    .colab-df-container {\n",
              "      display:flex;\n",
              "      gap: 12px;\n",
              "    }\n",
              "\n",
              "    .colab-df-convert {\n",
              "      background-color: #E8F0FE;\n",
              "      border: none;\n",
              "      border-radius: 50%;\n",
              "      cursor: pointer;\n",
              "      display: none;\n",
              "      fill: #1967D2;\n",
              "      height: 32px;\n",
              "      padding: 0 0 0 0;\n",
              "      width: 32px;\n",
              "    }\n",
              "\n",
              "    .colab-df-convert:hover {\n",
              "      background-color: #E2EBFA;\n",
              "      box-shadow: 0px 1px 2px rgba(60, 64, 67, 0.3), 0px 1px 3px 1px rgba(60, 64, 67, 0.15);\n",
              "      fill: #174EA6;\n",
              "    }\n",
              "\n",
              "    .colab-df-buttons div {\n",
              "      margin-bottom: 4px;\n",
              "    }\n",
              "\n",
              "    [theme=dark] .colab-df-convert {\n",
              "      background-color: #3B4455;\n",
              "      fill: #D2E3FC;\n",
              "    }\n",
              "\n",
              "    [theme=dark] .colab-df-convert:hover {\n",
              "      background-color: #434B5C;\n",
              "      box-shadow: 0px 1px 3px 1px rgba(0, 0, 0, 0.15);\n",
              "      filter: drop-shadow(0px 1px 2px rgba(0, 0, 0, 0.3));\n",
              "      fill: #FFFFFF;\n",
              "    }\n",
              "  </style>\n",
              "\n",
              "    <script>\n",
              "      const buttonEl =\n",
              "        document.querySelector('#df-ed25066b-1e83-4da0-9a51-48336e48b70e button.colab-df-convert');\n",
              "      buttonEl.style.display =\n",
              "        google.colab.kernel.accessAllowed ? 'block' : 'none';\n",
              "\n",
              "      async function convertToInteractive(key) {\n",
              "        const element = document.querySelector('#df-ed25066b-1e83-4da0-9a51-48336e48b70e');\n",
              "        const dataTable =\n",
              "          await google.colab.kernel.invokeFunction('convertToInteractive',\n",
              "                                                    [key], {});\n",
              "        if (!dataTable) return;\n",
              "\n",
              "        const docLinkHtml = 'Like what you see? Visit the ' +\n",
              "          '<a target=\"_blank\" href=https://colab.research.google.com/notebooks/data_table.ipynb>data table notebook</a>'\n",
              "          + ' to learn more about interactive tables.';\n",
              "        element.innerHTML = '';\n",
              "        dataTable['output_type'] = 'display_data';\n",
              "        await google.colab.output.renderOutput(dataTable, element);\n",
              "        const docLink = document.createElement('div');\n",
              "        docLink.innerHTML = docLinkHtml;\n",
              "        element.appendChild(docLink);\n",
              "      }\n",
              "    </script>\n",
              "  </div>\n",
              "\n",
              "\n",
              "    </div>\n",
              "  </div>\n"
            ],
            "application/vnd.google.colaboratory.intrinsic+json": {
              "type": "dataframe",
              "summary": "{\n  \"name\": \"ds['t_an']\",\n  \"rows\": 1,\n  \"fields\": [\n    {\n      \"column\": \"time\",\n      \"properties\": {\n        \"dtype\": \"float32\",\n        \"num_unique_values\": 1,\n        \"samples\": [\n          4614.0\n        ],\n        \"semantic_type\": \"\",\n        \"description\": \"\"\n      }\n    },\n    {\n      \"column\": \"lat\",\n      \"properties\": {\n        \"dtype\": \"float32\",\n        \"num_unique_values\": 1,\n        \"samples\": [\n          24.625\n        ],\n        \"semantic_type\": \"\",\n        \"description\": \"\"\n      }\n    },\n    {\n      \"column\": \"lon\",\n      \"properties\": {\n        \"dtype\": \"float32\",\n        \"num_unique_values\": 1,\n        \"samples\": [\n          -80.875\n        ],\n        \"semantic_type\": \"\",\n        \"description\": \"\"\n      }\n    },\n    {\n      \"column\": \"depth\",\n      \"properties\": {\n        \"dtype\": \"float32\",\n        \"num_unique_values\": 1,\n        \"samples\": [\n          0.0\n        ],\n        \"semantic_type\": \"\",\n        \"description\": \"\"\n      }\n    },\n    {\n      \"column\": \"t_an\",\n      \"properties\": {\n        \"dtype\": \"float32\",\n        \"num_unique_values\": 1,\n        \"samples\": [\n          26.939889907836914\n        ],\n        \"semantic_type\": \"\",\n        \"description\": \"\"\n      }\n    }\n  ]\n}"
            }
          },
          "metadata": {},
          "execution_count": 21
        }
      ]
    }
  ]
}