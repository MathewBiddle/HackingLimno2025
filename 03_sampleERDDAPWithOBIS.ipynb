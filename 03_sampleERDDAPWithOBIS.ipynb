{
 "cells": [
  {
   "cell_type": "code",
   "execution_count": null,
   "id": "365b6a32",
   "metadata": {},
   "outputs": [],
   "source": [
    "# # use erddapy to get some data\n",
    "# from erddapy import ERDDAP\n",
    "# import numpy as np\n",
    "# \n",
    "# e = ERDDAP(\n",
    "#     server=\"https://erddap.marine.usf.edu/erddap\",\n",
    "#     protocol=\"griddap\",\n",
    "# )\n",
    "# \n",
    "# e.dataset_id = \"jplMURSST41anom1day\"\n",
    "# print(f\"variables in this dataset:\\n\\n{e.variables}\")\n",
    "# \n",
    "# # set bounds to reduce download size\n",
    "# e.constraints = {\n",
    "#     'time>=': '2003-06-07T09:00:00Z', \n",
    "#     'time<=': '2024-06-07T09:00:00Z', \n",
    "#     'time_step': 1,\n",
    "#     'latitude>=': np.float64(lat - 1),\n",
    "#     'latitude<=': np.float64(lat + 1),\n",
    "#     'latitude_step': 1,\n",
    "#     'longitude>=': np.float64(lon - 1),\n",
    "#     'longitude<=': np.float64(lon + 1),\n",
    "#     'longitude_step': 1\n",
    "# }\n",
    "# \n",
    "# Download as a NetCDF to disk\n",
    "# nc_filename = e.download_file(\".nc\")  \n",
    "# (under the hood this uses the GRiDDAP `.nc` URL)\n",
    "# \n",
    "# ds = e.to_xarray()"
   ]
  },
  {
   "cell_type": "code",
   "execution_count": null,
   "id": "7b03ded8",
   "metadata": {},
   "outputs": [
    {
     "name": "stderr",
     "output_type": "stream",
     "text": [
      "/tmp/ipykernel_530513/1593599888.py:10: DtypeWarning: Columns (25,73,88,93,94,95,96,97,98,99,100,101,102,104,106,107,108,110,111,112,113,114,115,116,117,118,119,120,121,122,123,124,125,126,128,129,130,132,133,135,136,137,138,139,140,143,144,145,146,147,148,149,150,151,153,154,155,156,157,158,159,160,161,163,164,165,166,167,169,170,171,172,173,174,175,176,177,178) have mixed types. Specify dtype option on import or set low_memory=False.\n",
      "  occurrences = pd.read_csv(\"data/occurrences.csv\")\n"
     ]
    },
    {
     "name": "stdout",
     "output_type": "stream",
     "text": [
      "-32.0959727101363\n"
     ]
    },
    {
     "ename": "ValueError",
     "evalue": "cannot use a dict-like object for selection on a dimension that does not have a MultiIndex",
     "output_type": "error",
     "traceback": [
      "\u001b[31m---------------------------------------------------------------------------\u001b[39m",
      "\u001b[31mValueError\u001b[39m                                Traceback (most recent call last)",
      "\u001b[36mCell\u001b[39m\u001b[36m \u001b[39m\u001b[32mIn[13]\u001b[39m\u001b[32m, line 19\u001b[39m\n\u001b[32m     16\u001b[39m \u001b[38;5;28mprint\u001b[39m(occurrences[\u001b[33m\"\u001b[39m\u001b[33mdecimalLatitude\u001b[39m\u001b[33m\"\u001b[39m][\u001b[32m0\u001b[39m])\n\u001b[32m     18\u001b[39m \u001b[38;5;66;03m# add a column to occurrences for the salinity value\u001b[39;00m\n\u001b[32m---> \u001b[39m\u001b[32m19\u001b[39m occurrences[\u001b[33m\"\u001b[39m\u001b[33msalinity\u001b[39m\u001b[33m\"\u001b[39m] = \u001b[43mds\u001b[49m\u001b[43m[\u001b[49m\u001b[33;43m\"\u001b[39;49m\u001b[33;43mso\u001b[39;49m\u001b[33;43m\"\u001b[39;49m\u001b[43m]\u001b[49m\u001b[43m.\u001b[49m\u001b[43msel\u001b[49m\u001b[43m(\u001b[49m\n\u001b[32m     20\u001b[39m \u001b[43m    \u001b[49m\u001b[43mlatitude\u001b[49m\u001b[43m=\u001b[49m\u001b[43moccurrences\u001b[49m\u001b[43m[\u001b[49m\u001b[33;43m\"\u001b[39;49m\u001b[33;43mdecimalLatitude\u001b[39;49m\u001b[33;43m\"\u001b[39;49m\u001b[43m]\u001b[49m\u001b[43m,\u001b[49m\n\u001b[32m     21\u001b[39m \u001b[43m    \u001b[49m\u001b[43mlongitude\u001b[49m\u001b[43m=\u001b[49m\u001b[43moccurrences\u001b[49m\u001b[43m[\u001b[49m\u001b[33;43m\"\u001b[39;49m\u001b[33;43mdecimalLongitude\u001b[39;49m\u001b[33;43m\"\u001b[39;49m\u001b[43m]\u001b[49m\u001b[43m,\u001b[49m\n\u001b[32m     22\u001b[39m \u001b[43m    \u001b[49m\u001b[43mmethod\u001b[49m\u001b[43m=\u001b[49m\u001b[33;43m\"\u001b[39;49m\u001b[33;43mnearest\u001b[39;49m\u001b[33;43m\"\u001b[39;49m\n\u001b[32m     23\u001b[39m \u001b[43m)\u001b[49m.values\n\u001b[32m     29\u001b[39m \u001b[38;5;66;03m# for occurrence in occurrences.iterrows():\u001b[39;00m\n\u001b[32m     30\u001b[39m \u001b[38;5;66;03m#     # adjust names if dims are named 'latitude'/'longitude' or 'lat'/'lon'\u001b[39;00m\n\u001b[32m     31\u001b[39m \u001b[38;5;66;03m#     print(occurrence[\"decimalLatitude\"])\u001b[39;00m\n\u001b[32m   (...)\u001b[39m\u001b[32m     53\u001b[39m \n\u001b[32m     54\u001b[39m \u001b[38;5;66;03m# print(f\"At ({lat}, {lon}), so = {val}\")\u001b[39;00m\n",
      "\u001b[36mFile \u001b[39m\u001b[32m~/miniconda3/lib/python3.12/site-packages/xarray/core/dataarray.py:1682\u001b[39m, in \u001b[36mDataArray.sel\u001b[39m\u001b[34m(self, indexers, method, tolerance, drop, **indexers_kwargs)\u001b[39m\n\u001b[32m   1566\u001b[39m \u001b[38;5;28;01mdef\u001b[39;00m\u001b[38;5;250m \u001b[39m\u001b[34msel\u001b[39m(\n\u001b[32m   1567\u001b[39m     \u001b[38;5;28mself\u001b[39m,\n\u001b[32m   1568\u001b[39m     indexers: Mapping[Any, Any] | \u001b[38;5;28;01mNone\u001b[39;00m = \u001b[38;5;28;01mNone\u001b[39;00m,\n\u001b[32m   (...)\u001b[39m\u001b[32m   1572\u001b[39m     **indexers_kwargs: Any,\n\u001b[32m   1573\u001b[39m ) -> Self:\n\u001b[32m   1574\u001b[39m \u001b[38;5;250m    \u001b[39m\u001b[33;03m\"\"\"Return a new DataArray whose data is given by selecting index\u001b[39;00m\n\u001b[32m   1575\u001b[39m \u001b[33;03m    labels along the specified dimension(s).\u001b[39;00m\n\u001b[32m   1576\u001b[39m \n\u001b[32m   (...)\u001b[39m\u001b[32m   1680\u001b[39m \u001b[33;03m    Dimensions without coordinates: points\u001b[39;00m\n\u001b[32m   1681\u001b[39m \u001b[33;03m    \"\"\"\u001b[39;00m\n\u001b[32m-> \u001b[39m\u001b[32m1682\u001b[39m     ds = \u001b[38;5;28;43mself\u001b[39;49m\u001b[43m.\u001b[49m\u001b[43m_to_temp_dataset\u001b[49m\u001b[43m(\u001b[49m\u001b[43m)\u001b[49m\u001b[43m.\u001b[49m\u001b[43msel\u001b[49m\u001b[43m(\u001b[49m\n\u001b[32m   1683\u001b[39m \u001b[43m        \u001b[49m\u001b[43mindexers\u001b[49m\u001b[43m=\u001b[49m\u001b[43mindexers\u001b[49m\u001b[43m,\u001b[49m\n\u001b[32m   1684\u001b[39m \u001b[43m        \u001b[49m\u001b[43mdrop\u001b[49m\u001b[43m=\u001b[49m\u001b[43mdrop\u001b[49m\u001b[43m,\u001b[49m\n\u001b[32m   1685\u001b[39m \u001b[43m        \u001b[49m\u001b[43mmethod\u001b[49m\u001b[43m=\u001b[49m\u001b[43mmethod\u001b[49m\u001b[43m,\u001b[49m\n\u001b[32m   1686\u001b[39m \u001b[43m        \u001b[49m\u001b[43mtolerance\u001b[49m\u001b[43m=\u001b[49m\u001b[43mtolerance\u001b[49m\u001b[43m,\u001b[49m\n\u001b[32m   1687\u001b[39m \u001b[43m        \u001b[49m\u001b[43m*\u001b[49m\u001b[43m*\u001b[49m\u001b[43mindexers_kwargs\u001b[49m\u001b[43m,\u001b[49m\n\u001b[32m   1688\u001b[39m \u001b[43m    \u001b[49m\u001b[43m)\u001b[49m\n\u001b[32m   1689\u001b[39m     \u001b[38;5;28;01mreturn\u001b[39;00m \u001b[38;5;28mself\u001b[39m._from_temp_dataset(ds)\n",
      "\u001b[36mFile \u001b[39m\u001b[32m~/miniconda3/lib/python3.12/site-packages/xarray/core/dataset.py:2890\u001b[39m, in \u001b[36mDataset.sel\u001b[39m\u001b[34m(self, indexers, method, tolerance, drop, **indexers_kwargs)\u001b[39m\n\u001b[32m   2822\u001b[39m \u001b[38;5;250m\u001b[39m\u001b[33;03m\"\"\"Returns a new dataset with each array indexed by tick labels\u001b[39;00m\n\u001b[32m   2823\u001b[39m \u001b[33;03malong the specified dimension(s).\u001b[39;00m\n\u001b[32m   2824\u001b[39m \n\u001b[32m   (...)\u001b[39m\u001b[32m   2887\u001b[39m \n\u001b[32m   2888\u001b[39m \u001b[33;03m\"\"\"\u001b[39;00m\n\u001b[32m   2889\u001b[39m indexers = either_dict_or_kwargs(indexers, indexers_kwargs, \u001b[33m\"\u001b[39m\u001b[33msel\u001b[39m\u001b[33m\"\u001b[39m)\n\u001b[32m-> \u001b[39m\u001b[32m2890\u001b[39m query_results = \u001b[43mmap_index_queries\u001b[49m\u001b[43m(\u001b[49m\n\u001b[32m   2891\u001b[39m \u001b[43m    \u001b[49m\u001b[38;5;28;43mself\u001b[39;49m\u001b[43m,\u001b[49m\u001b[43m \u001b[49m\u001b[43mindexers\u001b[49m\u001b[43m=\u001b[49m\u001b[43mindexers\u001b[49m\u001b[43m,\u001b[49m\u001b[43m \u001b[49m\u001b[43mmethod\u001b[49m\u001b[43m=\u001b[49m\u001b[43mmethod\u001b[49m\u001b[43m,\u001b[49m\u001b[43m \u001b[49m\u001b[43mtolerance\u001b[49m\u001b[43m=\u001b[49m\u001b[43mtolerance\u001b[49m\n\u001b[32m   2892\u001b[39m \u001b[43m\u001b[49m\u001b[43m)\u001b[49m\n\u001b[32m   2894\u001b[39m \u001b[38;5;28;01mif\u001b[39;00m drop:\n\u001b[32m   2895\u001b[39m     no_scalar_variables = {}\n",
      "\u001b[36mFile \u001b[39m\u001b[32m~/miniconda3/lib/python3.12/site-packages/xarray/core/indexing.py:197\u001b[39m, in \u001b[36mmap_index_queries\u001b[39m\u001b[34m(obj, indexers, method, tolerance, **indexers_kwargs)\u001b[39m\n\u001b[32m    195\u001b[39m         results.append(IndexSelResult(labels))\n\u001b[32m    196\u001b[39m     \u001b[38;5;28;01melse\u001b[39;00m:\n\u001b[32m--> \u001b[39m\u001b[32m197\u001b[39m         results.append(\u001b[43mindex\u001b[49m\u001b[43m.\u001b[49m\u001b[43msel\u001b[49m\u001b[43m(\u001b[49m\u001b[43mlabels\u001b[49m\u001b[43m,\u001b[49m\u001b[43m \u001b[49m\u001b[43m*\u001b[49m\u001b[43m*\u001b[49m\u001b[43moptions\u001b[49m\u001b[43m)\u001b[49m)\n\u001b[32m    199\u001b[39m merged = merge_sel_results(results)\n\u001b[32m    201\u001b[39m \u001b[38;5;66;03m# drop dimension coordinates found in dimension indexers\u001b[39;00m\n\u001b[32m    202\u001b[39m \u001b[38;5;66;03m# (also drop multi-index if any)\u001b[39;00m\n\u001b[32m    203\u001b[39m \u001b[38;5;66;03m# (.sel() already ensures alignment)\u001b[39;00m\n",
      "\u001b[36mFile \u001b[39m\u001b[32m~/miniconda3/lib/python3.12/site-packages/xarray/core/indexes.py:772\u001b[39m, in \u001b[36mPandasIndex.sel\u001b[39m\u001b[34m(self, labels, method, tolerance)\u001b[39m\n\u001b[32m    770\u001b[39m     indexer = _query_slice(\u001b[38;5;28mself\u001b[39m.index, label, coord_name, method, tolerance)\n\u001b[32m    771\u001b[39m \u001b[38;5;28;01melif\u001b[39;00m is_dict_like(label):\n\u001b[32m--> \u001b[39m\u001b[32m772\u001b[39m     \u001b[38;5;28;01mraise\u001b[39;00m \u001b[38;5;167;01mValueError\u001b[39;00m(\n\u001b[32m    773\u001b[39m         \u001b[33m\"\u001b[39m\u001b[33mcannot use a dict-like object for selection on \u001b[39m\u001b[33m\"\u001b[39m\n\u001b[32m    774\u001b[39m         \u001b[33m\"\u001b[39m\u001b[33ma dimension that does not have a MultiIndex\u001b[39m\u001b[33m\"\u001b[39m\n\u001b[32m    775\u001b[39m     )\n\u001b[32m    776\u001b[39m \u001b[38;5;28;01melse\u001b[39;00m:\n\u001b[32m    777\u001b[39m     label_array = normalize_label(label, dtype=\u001b[38;5;28mself\u001b[39m.coord_dtype)\n",
      "\u001b[31mValueError\u001b[39m: cannot use a dict-like object for selection on a dimension that does not have a MultiIndex"
     ]
    }
   ],
   "source": [
    "# sample all taxa occurrence points for ERDDAP data values:\n",
    "# data has already been downloaded as .nc\n",
    "# example:\n",
    "# https://erddap.marine.usf.edu/erddap/griddap/cmems_salinity.graph?so%5B(2023-06-16)%5D%5B(0.494025)%5D%5B(-80.0):(90.0)%5D%5B(-180.0):(179.9167)%5D&.draw=surface&.vars=longitude%7Clatitude%7Cso&.colorBar=%7C%7C%7C%7C%7C&.bgColor=0xffccccff\n",
    "\n",
    "import xarray as xr\n",
    "import pandas as pd\n",
    "\n",
    "# load taxa occurrence points\n",
    "occurrences = pd.read_csv(\"data/occurrences.csv\")\n",
    "\n",
    "\n",
    "# Open raster data file with xarray\n",
    "ds = xr.open_dataset(\"data/cmems_salinity_44d2_bc4b_70b2_U1749495233099.nc\")\n",
    "\n",
    "# print(occurrences[\"decimalLatitude\"][0])\n",
    "\n",
    "# add a column to occurrences for the salinity value\n",
    "occurrences[\"salinity\"] = ds[\"so\"].sel(\n",
    "    latitude=occurrences[\"decimalLatitude\"],\n",
    "    longitude=occurrences[\"decimalLongitude\"],\n",
    "    method=\"nearest\"\n",
    ").values\n",
    "\n",
    "\n",
    "\n",
    "\n",
    "\n",
    "# for occurrence in occurrences.iterrows():\n",
    "#     # adjust names if dims are named 'latitude'/'longitude' or 'lat'/'lon'\n",
    "#     print(occurrence[\"decimalLatitude\"])\n",
    "#     val = ds[\"so\"].sel(\n",
    "#         latitude=occurrence[\"decimalLatitude\"],\n",
    "#         longitude=occurrence[\"decimalLongitude\"],\n",
    "#         method=\"nearest\"\n",
    "#     ).values\n",
    "\n",
    "#     print(f\"At ({occurrence[\"decimalLatitude\"]}, {occurrence[\"decimalLongitude\"]}), so = {val}\")\n",
    "\n",
    "# lat = 60\n",
    "# lon = -60\n",
    "\n",
    "# # Open file with xarray\n",
    "# ds = xr.open_dataset(\"data/cmems_salinity_44d2_bc4b_70b2_U1749495233099.nc\")\n",
    "\n",
    "\n",
    "# # adjust names if dims are named 'latitude'/'longitude' or 'lat'/'lon'\n",
    "# val = ds[\"so\"].sel(\n",
    "#     latitude=lat,\n",
    "#     longitude=lon,\n",
    "#     method=\"nearest\"\n",
    "# ).values\n",
    "\n",
    "# print(f\"At ({lat}, {lon}), so = {val}\")"
   ]
  }
 ],
 "metadata": {
  "kernelspec": {
   "display_name": "base",
   "language": "python",
   "name": "python3"
  },
  "language_info": {
   "codemirror_mode": {
    "name": "ipython",
    "version": 3
   },
   "file_extension": ".py",
   "mimetype": "text/x-python",
   "name": "python",
   "nbconvert_exporter": "python",
   "pygments_lexer": "ipython3",
   "version": "3.12.2"
  }
 },
 "nbformat": 4,
 "nbformat_minor": 5
}
