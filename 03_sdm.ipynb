{
  "nbformat": 4,
  "nbformat_minor": 0,
  "metadata": {
    "colab": {
      "provenance": [],
      "include_colab_link": true
    },
    "kernelspec": {
      "name": "python3",
      "display_name": "Python 3"
    },
    "language_info": {
      "name": "python"
    }
  },
  "cells": [
    {
      "cell_type": "markdown",
      "metadata": {
        "id": "view-in-github",
        "colab_type": "text"
      },
      "source": [
        "<a href=\"https://colab.research.google.com/github/marinebon/HackingLimno2025/blob/main/03_sdm.ipynb\" target=\"_parent\"><img src=\"https://colab.research.google.com/assets/colab-badge.svg\" alt=\"Open In Colab\"/></a>"
      ]
    },
    {
      "cell_type": "code",
      "source": [
        "# Modify this section as needed.\n",
        "# ==============================================================================\n",
        "# === If using google colab and google drive:\n",
        "# TODO: is there a way to do this without granting excessive permissions?\n",
        "from google.colab import drive\n",
        "drive.mount('/content/drive')\n",
        "\n",
        "# NOTE: Before running you must create a folder in your google drive\n",
        "#       matching the directory name here `GSoC_SDM_Project`.\n",
        "PROJECT_DIR = '/content/drive/MyDrive/GSoC_SDM_Project'\n",
        "\n",
        "# === if using local machine\n",
        "# PROJECT_DIR = './'\n",
        "#import os\n",
        "#if not os.path.exists(PROJECT_DIR):\n",
        "#    os.makedirs(PROJECT_DIR)\n",
        "# ==============================================================================\n",
        "# ==============================================================================\n",
        "# === spatial coverage\n",
        "# ==============================================================================\n",
        "# # === FL\n",
        "LATMIN = 24.0\n",
        "LATMAX = 30.7\n",
        "LONMIN = -87.9\n",
        "LONMAX = -79.5\n",
        "# === FL Keys\n",
        "# LATMIN = 24.11637699635014\n",
        "# LATMAX = 26.11949526731449\n",
        "# LONMIN = -82.51572158798965\n",
        "# LONMAX = -79.61106009492724\n",
        "# ==============================================================================\n",
        "\n",
        "# ==============================================================================\n",
        "# === install functions from github repo\n",
        "# ==============================================================================\n",
        "# Clone the GitHub repo\n",
        "!git clone https://github.com/marinebon/HackingLimno2025.git\n",
        "\n",
        "# import files from the repo\n",
        "import sys\n",
        "sys.path.append('/content/HackingLimno2025/py')\n",
        "\n",
        "# imports from these files\n",
        "# SDM Class for Marine species\n",
        "from MarineSpeciesDistributionModel import MarineSpeciesDistributionModel\n",
        "# =============================================================================="
      ],
      "metadata": {
        "colab": {
          "base_uri": "https://localhost:8080/"
        },
        "id": "R8qnaD3FFI9A",
        "outputId": "188c5c28-1605-4b5a-8bd6-c7f9ac409b1f"
      },
      "execution_count": 1,
      "outputs": [
        {
          "output_type": "stream",
          "name": "stdout",
          "text": [
            "Drive already mounted at /content/drive; to attempt to forcibly remount, call drive.mount(\"/content/drive\", force_remount=True).\n",
            "fatal: destination path 'HackingLimno2025' already exists and is not an empty directory.\n"
          ]
        }
      ]
    },
    {
      "cell_type": "code",
      "execution_count": 2,
      "metadata": {
        "id": "duORdW0vAiYc",
        "colab": {
          "base_uri": "https://localhost:8080/"
        },
        "outputId": "1638fdfc-173f-46c7-efa4-590d94a977e7"
      },
      "outputs": [
        {
          "output_type": "stream",
          "name": "stdout",
          "text": [
            "Requirement already satisfied: rasterio in /usr/local/lib/python3.11/dist-packages (1.4.3)\n",
            "Requirement already satisfied: pandas in /usr/local/lib/python3.11/dist-packages (2.2.2)\n",
            "Requirement already satisfied: geopandas in /usr/local/lib/python3.11/dist-packages (1.0.1)\n",
            "Requirement already satisfied: matplotlib in /usr/local/lib/python3.11/dist-packages (3.10.0)\n",
            "Requirement already satisfied: requests in /usr/local/lib/python3.11/dist-packages (2.32.3)\n",
            "Requirement already satisfied: xarray in /usr/local/lib/python3.11/dist-packages (2025.3.1)\n",
            "Requirement already satisfied: netCDF4 in /usr/local/lib/python3.11/dist-packages (1.7.2)\n",
            "Requirement already satisfied: affine in /usr/local/lib/python3.11/dist-packages (from rasterio) (2.4.0)\n",
            "Requirement already satisfied: attrs in /usr/local/lib/python3.11/dist-packages (from rasterio) (25.3.0)\n",
            "Requirement already satisfied: certifi in /usr/local/lib/python3.11/dist-packages (from rasterio) (2025.6.15)\n",
            "Requirement already satisfied: click>=4.0 in /usr/local/lib/python3.11/dist-packages (from rasterio) (8.2.1)\n",
            "Requirement already satisfied: cligj>=0.5 in /usr/local/lib/python3.11/dist-packages (from rasterio) (0.7.2)\n",
            "Requirement already satisfied: numpy>=1.24 in /usr/local/lib/python3.11/dist-packages (from rasterio) (2.0.2)\n",
            "Requirement already satisfied: click-plugins in /usr/local/lib/python3.11/dist-packages (from rasterio) (1.1.1.2)\n",
            "Requirement already satisfied: pyparsing in /usr/local/lib/python3.11/dist-packages (from rasterio) (3.2.3)\n",
            "Requirement already satisfied: python-dateutil>=2.8.2 in /usr/local/lib/python3.11/dist-packages (from pandas) (2.9.0.post0)\n",
            "Requirement already satisfied: pytz>=2020.1 in /usr/local/lib/python3.11/dist-packages (from pandas) (2025.2)\n",
            "Requirement already satisfied: tzdata>=2022.7 in /usr/local/lib/python3.11/dist-packages (from pandas) (2025.2)\n",
            "Requirement already satisfied: pyogrio>=0.7.2 in /usr/local/lib/python3.11/dist-packages (from geopandas) (0.11.0)\n",
            "Requirement already satisfied: packaging in /usr/local/lib/python3.11/dist-packages (from geopandas) (24.2)\n",
            "Requirement already satisfied: pyproj>=3.3.0 in /usr/local/lib/python3.11/dist-packages (from geopandas) (3.7.1)\n",
            "Requirement already satisfied: shapely>=2.0.0 in /usr/local/lib/python3.11/dist-packages (from geopandas) (2.1.1)\n",
            "Requirement already satisfied: contourpy>=1.0.1 in /usr/local/lib/python3.11/dist-packages (from matplotlib) (1.3.2)\n",
            "Requirement already satisfied: cycler>=0.10 in /usr/local/lib/python3.11/dist-packages (from matplotlib) (0.12.1)\n",
            "Requirement already satisfied: fonttools>=4.22.0 in /usr/local/lib/python3.11/dist-packages (from matplotlib) (4.58.5)\n",
            "Requirement already satisfied: kiwisolver>=1.3.1 in /usr/local/lib/python3.11/dist-packages (from matplotlib) (1.4.8)\n",
            "Requirement already satisfied: pillow>=8 in /usr/local/lib/python3.11/dist-packages (from matplotlib) (11.2.1)\n",
            "Requirement already satisfied: charset-normalizer<4,>=2 in /usr/local/lib/python3.11/dist-packages (from requests) (3.4.2)\n",
            "Requirement already satisfied: idna<4,>=2.5 in /usr/local/lib/python3.11/dist-packages (from requests) (3.10)\n",
            "Requirement already satisfied: urllib3<3,>=1.21.1 in /usr/local/lib/python3.11/dist-packages (from requests) (2.4.0)\n",
            "Requirement already satisfied: cftime in /usr/local/lib/python3.11/dist-packages (from netCDF4) (1.6.4.post1)\n",
            "Requirement already satisfied: six>=1.5 in /usr/local/lib/python3.11/dist-packages (from python-dateutil>=2.8.2->pandas) (1.17.0)\n"
          ]
        }
      ],
      "source": [
        "# install dependencies TODO: are all these needed?\n",
        "!pip install  rasterio pandas geopandas matplotlib  requests xarray netCDF4"
      ]
    },
    {
      "cell_type": "markdown",
      "source": [
        "Import libraries & setup\n"
      ],
      "metadata": {
        "id": "PA9meCsJEJJD"
      }
    },
    {
      "cell_type": "code",
      "source": [
        "# TODO: are all these imports needed?\n",
        "\n",
        "\n",
        "# Standard library imports\n",
        "from datetime import datetime\n",
        "from typing import Dict, List, Optional, Tuple, Union\n",
        "import warnings\n",
        "\n",
        "# Third-party library imports\n",
        "import matplotlib.pyplot as plt\n",
        "import numpy as np\n",
        "import pandas as pd\n",
        "import rasterio\n",
        "import seaborn as sns\n",
        "import xarray as xr\n",
        "from scipy.spatial.distance import cdist\n",
        "%matplotlib inline\n"
      ],
      "metadata": {
        "id": "eroPo3d2EEx4"
      },
      "execution_count": 3,
      "outputs": []
    },
    {
      "cell_type": "code",
      "source": [
        "df = pd.read_parquet(f'{PROJECT_DIR}/occurrences_and_environment.parquet')\n",
        "environmental_cols = ['t']#, 'temperature_sd']  # TODO: can we get these dynamically from the df?\n",
        "\n",
        "# Initialize  SDM\n",
        "sdm = MarineSpeciesDistributionModel(nu=0.1, kernel='rbf', gamma=0.5)\n",
        "sdm.species_name = 'Species'\n",
        "\n",
        "# Prepare the data\n",
        "data = sdm.prepare_data(df, environmental_cols)\n",
        "\n",
        "# Fit the model\n",
        "sdm.fit(data['X_train'])\n",
        "\n",
        "# Evaluate the model\n",
        "auc_score, fpr, tpr = sdm.evaluate_model(data['X_test'])\n",
        "print(f\"Model AUC Score: {auc_score:.3f}\")\n",
        "\n",
        "# Create prediction grid\n",
        "grid_resolution = 0.01\n",
        "bounds = (LONMIN, LATMIN, LONMAX, LATMAX)\n",
        "\n",
        "# Create a simple prediction grid\n",
        "lons = np.arange(bounds[0], bounds[2], grid_resolution)\n",
        "lats = np.arange(bounds[1], bounds[3], grid_resolution)\n",
        "lon_grid, lat_grid = np.meshgrid(lons, lats)\n",
        "\n",
        "grid_coords = np.column_stack([lon_grid.ravel(), lat_grid.ravel()])\n",
        "\n",
        "# Simulate environmental data for grid\n",
        "# TODO: this needs to be loaded from the WOA files\n",
        "#grid_salinity = np.random.uniform(32, 36, len(grid_coords))\n",
        "grid_temperature = np.random.uniform(10, 25, len(grid_coords))\n",
        "\n",
        "grid_env = np.column_stack([grid_temperature])  #[grid_salinity, grid_temperature])\n",
        "\n",
        "# Make predictions\n",
        "predictions = sdm.predict(grid_env)\n",
        "\n",
        "# Create grid DataFrame\n",
        "grid_df = pd.DataFrame({\n",
        "    'longitude': grid_coords[:, 0],\n",
        "    'latitude': grid_coords[:, 1],\n",
        "#    'salinity': grid_salinity,\n",
        "    'temperature': grid_temperature,\n",
        "    'suitability': predictions\n",
        "})\n",
        "\n",
        "# Plot the results\n",
        "fig = sdm.plot_distribution_map(grid_df, occurrence_data=data)\n",
        "\n",
        "\n",
        "\n",
        "df_results = grid_df\n",
        "\n",
        "print(\"\\n Creating visualizations...\")\n",
        "\n",
        "plt.figure(figsize=(10, 4))\n",
        "\n",
        "plt.subplot(1, 2, 1)\n",
        "plt.plot(fpr, tpr, color='darkorange', lw=2, label=f'ROC curve (AUC = {auc_score:.3f})')\n",
        "plt.plot([0, 1], [0, 1], color='navy', lw=2, linestyle='--')\n",
        "plt.xlim([0.0, 1.0])\n",
        "plt.ylim([0.0, 1.05])\n",
        "plt.xlabel('False Positive Rate')\n",
        "plt.ylabel('True Positive Rate')\n",
        "plt.title('Receiver Operating Characteristic (ROC) Curve')\n",
        "plt.legend(loc=\"lower right\")\n",
        "plt.grid(True, alpha=0.3)\n",
        "\n",
        "plt.subplot(1, 2, 2)\n",
        "scatter = plt.scatter(\n",
        "    df_results['longitude'],\n",
        "    df_results['latitude'],\n",
        "    c=df_results['suitability'],\n",
        "    cmap='RdYlBu_r',\n",
        "    s=30,\n",
        "    alpha=0.7,\n",
        "    edgecolors='black',\n",
        "    linewidth=0.5\n",
        ")\n",
        "plt.colorbar(scatter, label='Habitat Suitability')\n",
        "plt.xlabel('Longitude')\n",
        "plt.ylabel('Latitude')\n",
        "plt.title('Habitat Suitability')\n",
        "plt.grid(True, alpha=0.3)\n",
        "\n",
        "plt.tight_layout()\n",
        "plt.show()\n",
        "\n"
      ],
      "metadata": {
        "id": "RhDbu1Ht6SNj",
        "outputId": "f702df0d-25c7-475d-fe69-39f89b715e20",
        "colab": {
          "base_uri": "https://localhost:8080/",
          "height": 415
        }
      },
      "execution_count": 4,
      "outputs": [
        {
          "output_type": "stream",
          "name": "stdout",
          "text": [
            "Fitting One-Class SVM...\n",
            "Model fitting completed.\n",
            "Model AUC Score: 0.973\n"
          ]
        },
        {
          "output_type": "error",
          "ename": "NameError",
          "evalue": "name 'plt' is not defined",
          "traceback": [
            "\u001b[0;31m---------------------------------------------------------------------------\u001b[0m",
            "\u001b[0;31mNameError\u001b[0m                                 Traceback (most recent call last)",
            "\u001b[0;32m/tmp/ipython-input-4-3575179929.py\u001b[0m in \u001b[0;36m<cell line: 0>\u001b[0;34m()\u001b[0m\n\u001b[1;32m     47\u001b[0m \u001b[0;34m\u001b[0m\u001b[0m\n\u001b[1;32m     48\u001b[0m \u001b[0;31m# Plot the results\u001b[0m\u001b[0;34m\u001b[0m\u001b[0;34m\u001b[0m\u001b[0m\n\u001b[0;32m---> 49\u001b[0;31m \u001b[0mfig\u001b[0m \u001b[0;34m=\u001b[0m \u001b[0msdm\u001b[0m\u001b[0;34m.\u001b[0m\u001b[0mplot_distribution_map\u001b[0m\u001b[0;34m(\u001b[0m\u001b[0mgrid_df\u001b[0m\u001b[0;34m,\u001b[0m \u001b[0moccurrence_data\u001b[0m\u001b[0;34m=\u001b[0m\u001b[0mdata\u001b[0m\u001b[0;34m)\u001b[0m\u001b[0;34m\u001b[0m\u001b[0;34m\u001b[0m\u001b[0m\n\u001b[0m\u001b[1;32m     50\u001b[0m \u001b[0;34m\u001b[0m\u001b[0m\n\u001b[1;32m     51\u001b[0m \u001b[0;34m\u001b[0m\u001b[0m\n",
            "\u001b[0;32m/content/HackingLimno2025/py/MarineSpeciesDistributionModel.py\u001b[0m in \u001b[0;36mplot_distribution_map\u001b[0;34m(self, grid_df, prediction_col, occurrence_data, figsize)\u001b[0m\n\u001b[1;32m    202\u001b[0m         \u001b[0mPlot\u001b[0m \u001b[0mthe\u001b[0m \u001b[0mspecies\u001b[0m \u001b[0mdistribution\u001b[0m \u001b[0mmap\u001b[0m\u001b[0;34m\u001b[0m\u001b[0;34m\u001b[0m\u001b[0m\n\u001b[1;32m    203\u001b[0m         \"\"\"\n\u001b[0;32m--> 204\u001b[0;31m         \u001b[0mplt\u001b[0m\u001b[0;34m.\u001b[0m\u001b[0mfigure\u001b[0m\u001b[0;34m(\u001b[0m\u001b[0mfigsize\u001b[0m\u001b[0;34m=\u001b[0m\u001b[0mfigsize\u001b[0m\u001b[0;34m)\u001b[0m\u001b[0;34m\u001b[0m\u001b[0;34m\u001b[0m\u001b[0m\n\u001b[0m\u001b[1;32m    205\u001b[0m \u001b[0;34m\u001b[0m\u001b[0m\n\u001b[1;32m    206\u001b[0m \u001b[0;34m\u001b[0m\u001b[0m\n",
            "\u001b[0;31mNameError\u001b[0m: name 'plt' is not defined"
          ]
        }
      ]
    }
  ]
}