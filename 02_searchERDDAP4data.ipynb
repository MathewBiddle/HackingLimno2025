{
  "cells": [
    {
      "cell_type": "markdown",
      "metadata": {
        "colab_type": "text",
        "id": "view-in-github"
      },
      "source": [
        "<a href=\"https://colab.research.google.com/github/marinebon/HackingLimno2025/blob/main/02_searchERDDAP4data.ipynb\" target=\"_parent\"><img src=\"https://colab.research.google.com/assets/colab-badge.svg\" alt=\"Open In Colab\"/></a>"
      ]
    },
    {
      "cell_type": "markdown",
      "metadata": {
        "id": "SG_xCVR9w2v1"
      },
      "source": [
        "# Use `erddapy` to query multiple data servers for data of interes\n",
        "\n",
        "In this notebook we use the package [erddapy](https://ioos.github.io/erddapy/03-advanced_search-output.html) to query for environmental data in a spitaltemporal region that aligns with our species occurrence data."
      ]
    },
    {
      "cell_type": "code",
      "execution_count": 16,
      "metadata": {
        "colab": {
          "base_uri": "https://localhost:8080/"
        },
        "id": "n2NBE8ltw3vf",
        "outputId": "52f2b928-5789-433f-d475-04466b839258"
      },
      "outputs": [
        {
          "name": "stdout",
          "output_type": "stream",
          "text": [
            "Note: you may need to restart the kernel to use updated packages.\n"
          ]
        }
      ],
      "source": [
        "try:\n",
        "  import erddapy\n",
        "except:\n",
        "  %pip -q install erddapy\n",
        "  import erddapy\n",
        "\n",
        "try:\n",
        "  import xarray\n",
        "except:\n",
        "  %pip -q install xarray\n",
        "  import xarray\n",
        "\n",
        "try:\n",
        "  import netCDF4\n",
        "except:\n",
        "  %pip -q install netCDF4\n",
        "  import netCDF4\n"
      ]
    },
    {
      "cell_type": "code",
      "execution_count": 9,
      "metadata": {
        "colab": {
          "base_uri": "https://localhost:8080/",
          "height": 206
        },
        "id": "VkBtzFeNwxCF",
        "outputId": "c9593e77-c96a-4f8a-8bea-9e33ebb48a37"
      },
      "outputs": [
        {
          "data": {
            "text/html": [
              "<div>\n",
              "<style scoped>\n",
              "    .dataframe tbody tr th:only-of-type {\n",
              "        vertical-align: middle;\n",
              "    }\n",
              "\n",
              "    .dataframe tbody tr th {\n",
              "        vertical-align: top;\n",
              "    }\n",
              "\n",
              "    .dataframe thead th {\n",
              "        text-align: right;\n",
              "    }\n",
              "</style>\n",
              "<table border=\"1\" class=\"dataframe\">\n",
              "  <thead>\n",
              "    <tr style=\"text-align: right;\">\n",
              "      <th></th>\n",
              "      <th>Title</th>\n",
              "      <th>Institution</th>\n",
              "      <th>Dataset ID</th>\n",
              "      <th>Server url</th>\n",
              "    </tr>\n",
              "  </thead>\n",
              "  <tbody>\n",
              "    <tr>\n",
              "      <th>0</th>\n",
              "      <td>AsterSEA068-20220727T1709</td>\n",
              "      <td>Voice of the Ocean Foundation</td>\n",
              "      <td>delayed_SEA068_M27</td>\n",
              "      <td>https://erddap.observations.voiceoftheocean.or...</td>\n",
              "    </tr>\n",
              "    <tr>\n",
              "      <th>1</th>\n",
              "      <td>AsterSEA068-20220727T1709</td>\n",
              "      <td>Voice of the Ocean Foundation</td>\n",
              "      <td>nrt_SEA068_M27</td>\n",
              "      <td>https://erddap.observations.voiceoftheocean.or...</td>\n",
              "    </tr>\n",
              "    <tr>\n",
              "      <th>2</th>\n",
              "      <td>AsterSEA068-20240130T0654</td>\n",
              "      <td>Voice of the Ocean Foundation</td>\n",
              "      <td>delayed_SEA068_M30</td>\n",
              "      <td>https://erddap.observations.voiceoftheocean.or...</td>\n",
              "    </tr>\n",
              "    <tr>\n",
              "      <th>3</th>\n",
              "      <td>AsterSEA068-20240130T0654</td>\n",
              "      <td>Voice of the Ocean Foundation</td>\n",
              "      <td>nrt_SEA068_M30</td>\n",
              "      <td>https://erddap.observations.voiceoftheocean.or...</td>\n",
              "    </tr>\n",
              "    <tr>\n",
              "      <th>4</th>\n",
              "      <td>AsterSEA068-20240817T1120</td>\n",
              "      <td>Voice of the Ocean Foundation</td>\n",
              "      <td>delayed_SEA068_M32</td>\n",
              "      <td>https://erddap.observations.voiceoftheocean.or...</td>\n",
              "    </tr>\n",
              "  </tbody>\n",
              "</table>\n",
              "</div>"
            ],
            "text/plain": [
              "                       Title                    Institution  \\\n",
              "0  AsterSEA068-20220727T1709  Voice of the Ocean Foundation   \n",
              "1  AsterSEA068-20220727T1709  Voice of the Ocean Foundation   \n",
              "2  AsterSEA068-20240130T0654  Voice of the Ocean Foundation   \n",
              "3  AsterSEA068-20240130T0654  Voice of the Ocean Foundation   \n",
              "4  AsterSEA068-20240817T1120  Voice of the Ocean Foundation   \n",
              "\n",
              "           Dataset ID                                         Server url  \n",
              "0  delayed_SEA068_M27  https://erddap.observations.voiceoftheocean.or...  \n",
              "1      nrt_SEA068_M27  https://erddap.observations.voiceoftheocean.or...  \n",
              "2  delayed_SEA068_M30  https://erddap.observations.voiceoftheocean.or...  \n",
              "3      nrt_SEA068_M30  https://erddap.observations.voiceoftheocean.or...  \n",
              "4  delayed_SEA068_M32  https://erddap.observations.voiceoftheocean.or...  "
            ]
          },
          "execution_count": 9,
          "metadata": {},
          "output_type": "execute_result"
        }
      ],
      "source": [
        "from erddapy.multiple_server_search import advanced_search_servers\n",
        "\n",
        "df = advanced_search_servers(\n",
        "    servers_list=None,\n",
        "    parallel=True,\n",
        "    standard_name=\"sea_water_temperature\"\n",
        ")\n",
        "\n",
        "df.head()"
      ]
    },
    {
      "cell_type": "markdown",
      "metadata": {},
      "source": [
        "Once you have identified datasets of interest, download the relevant data into /data/."
      ]
    }
  ],
  "metadata": {
    "colab": {
      "authorship_tag": "ABX9TyN+ULy/9aG2zgSBZveC01W+",
      "include_colab_link": true,
      "provenance": []
    },
    "kernelspec": {
      "display_name": "base",
      "language": "python",
      "name": "python3"
    },
    "language_info": {
      "codemirror_mode": {
        "name": "ipython",
        "version": 3
      },
      "file_extension": ".py",
      "mimetype": "text/x-python",
      "name": "python",
      "nbconvert_exporter": "python",
      "pygments_lexer": "ipython3",
      "version": "3.12.2"
    }
  },
  "nbformat": 4,
  "nbformat_minor": 0
}
